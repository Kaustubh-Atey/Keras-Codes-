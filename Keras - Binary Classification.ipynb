{
  "nbformat": 4,
  "nbformat_minor": 0,
  "metadata": {
    "colab": {
      "name": "Intro to Keras - Basic.ipynb",
      "provenance": [],
      "authorship_tag": "ABX9TyP7g5UmyRc65Y6IGf+1a5Hn",
      "include_colab_link": true
    },
    "kernelspec": {
      "name": "python3",
      "display_name": "Python 3"
    }
  },
  "cells": [
    {
      "cell_type": "markdown",
      "metadata": {
        "id": "view-in-github",
        "colab_type": "text"
      },
      "source": [
        "<a href=\"https://colab.research.google.com/github/Kaustubh-Atey/Keras-Codes-/blob/master/Intro_to_Keras_Basic.ipynb\" target=\"_parent\"><img src=\"https://colab.research.google.com/assets/colab-badge.svg\" alt=\"Open In Colab\"/></a>"
      ]
    },
    {
      "cell_type": "markdown",
      "metadata": {
        "id": "JbLj-OUKojSL",
        "colab_type": "text"
      },
      "source": [
        "### **Creating a simple neural network using Keras for a binary classification task.**"
      ]
    },
    {
      "cell_type": "markdown",
      "metadata": {
        "id": "c3pOyaANmimQ",
        "colab_type": "text"
      },
      "source": [
        " # **Data Import and Processing**\n"
      ]
    },
    {
      "cell_type": "markdown",
      "metadata": {
        "id": "GAd5BOpNn1yb",
        "colab_type": "text"
      },
      "source": [
        "The data used here is : '**Pima Indians Diabetes Dataset**'. It is downloaded from : https://raw.githubusercontent.com/jbrownlee/Datasets/master/pima-indians-diabetes.csv\n",
        "\n",
        "It is a binary (2-class) classification problem. There are 768 observations with 8 input variables and 1 output variable.\n",
        "\n",
        "The variable names are as follows:\n",
        "\n",
        "**1. Number of times pregnant.** \n",
        "\n",
        "**2. Plasma glucose concentration a 2 hours in an oral glucose tolerance test.** \n",
        "\n",
        "**3. Diastolic blood pressure (mm Hg).** \n",
        "\n",
        "**4. Triceps skinfold thickness (mm).** \n",
        "\n",
        "**5. 2-Hour serum insulin (mu U/ml).** \n",
        "\n",
        "**6. Body mass index (weight in kg/(height in m)^2).** \n",
        "\n",
        "**7. Diabetes pedigree function.** \n",
        "\n",
        "**8. Age (years).** \n",
        "\n",
        "**9. Class variable (0 or 1).** \n"
      ]
    },
    {
      "cell_type": "code",
      "metadata": {
        "id": "mwGyz6EwSRk5",
        "colab_type": "code",
        "colab": {}
      },
      "source": [
        "import numpy as np\n",
        "import matplotlib.pyplot as plt\n",
        "from sklearn.model_selection import train_test_split\n",
        "import sklearn"
      ],
      "execution_count": 0,
      "outputs": []
    },
    {
      "cell_type": "code",
      "metadata": {
        "id": "-n1H04B-dX7O",
        "colab_type": "code",
        "colab": {
          "base_uri": "https://localhost:8080/",
          "height": 134
        },
        "outputId": "4eeab270-344d-400e-9a5e-6e0e3abfdbc0"
      },
      "source": [
        "# load data \n",
        "data = np.loadtxt('Pima Indians Diabetes Dataset.txt',delimiter =',')\n",
        "np.shape(data)\n",
        "data"
      ],
      "execution_count": 45,
      "outputs": [
        {
          "output_type": "execute_result",
          "data": {
            "text/plain": [
              "array([[  6.   , 148.   ,  72.   , ...,   0.627,  50.   ,   1.   ],\n",
              "       [  1.   ,  85.   ,  66.   , ...,   0.351,  31.   ,   0.   ],\n",
              "       [  8.   , 183.   ,  64.   , ...,   0.672,  32.   ,   1.   ],\n",
              "       ...,\n",
              "       [  5.   , 121.   ,  72.   , ...,   0.245,  30.   ,   0.   ],\n",
              "       [  1.   , 126.   ,  60.   , ...,   0.349,  47.   ,   1.   ],\n",
              "       [  1.   ,  93.   ,  70.   , ...,   0.315,  23.   ,   0.   ]])"
            ]
          },
          "metadata": {
            "tags": []
          },
          "execution_count": 45
        }
      ]
    },
    {
      "cell_type": "code",
      "metadata": {
        "id": "a9-HDmIddX5M",
        "colab_type": "code",
        "colab": {
          "base_uri": "https://localhost:8080/",
          "height": 50
        },
        "outputId": "4e4b4e41-5d4a-4a6a-e4ae-9f8250f6104d"
      },
      "source": [
        "X_data = data[:,0:8]\n",
        "print('X_data:',np.shape(X_data))\n",
        "Y_data = data[:,8]\n",
        "print('Y_data:',np.shape(Y_data))"
      ],
      "execution_count": 46,
      "outputs": [
        {
          "output_type": "stream",
          "text": [
            "X_data: (768, 8)\n",
            "Y_data: (768,)\n"
          ],
          "name": "stdout"
        }
      ]
    },
    {
      "cell_type": "code",
      "metadata": {
        "id": "re5mYzfAdX2R",
        "colab_type": "code",
        "colab": {}
      },
      "source": [
        "# Split data into X_train, X_test, y_train, y_test\n",
        "X_train, X_test, y_train, y_test = train_test_split(X_data, Y_data, test_size=0.25, random_state= 0)"
      ],
      "execution_count": 0,
      "outputs": []
    },
    {
      "cell_type": "code",
      "metadata": {
        "id": "6XY9nsL8dXzm",
        "colab_type": "code",
        "colab": {
          "base_uri": "https://localhost:8080/",
          "height": 84
        },
        "outputId": "e01b4d54-4cb4-4530-c8ba-55e97b1818f0"
      },
      "source": [
        "# Check the dimension of the sets\n",
        "print('X_train:',np.shape(X_train))\n",
        "print('y_train:',np.shape(y_train))\n",
        "print('X_test:',np.shape(X_test))\n",
        "print('y_test:',np.shape(y_test))"
      ],
      "execution_count": 48,
      "outputs": [
        {
          "output_type": "stream",
          "text": [
            "X_train: (576, 8)\n",
            "y_train: (576,)\n",
            "X_test: (192, 8)\n",
            "y_test: (192,)\n"
          ],
          "name": "stdout"
        }
      ]
    },
    {
      "cell_type": "code",
      "metadata": {
        "id": "1TdBuGFidXwi",
        "colab_type": "code",
        "colab": {
          "base_uri": "https://localhost:8080/",
          "height": 134
        },
        "outputId": "66b4e879-eed9-4148-c558-32f7a5ef2da4"
      },
      "source": [
        "X_train"
      ],
      "execution_count": 49,
      "outputs": [
        {
          "output_type": "execute_result",
          "data": {
            "text/plain": [
              "array([[  9.   ,  89.   ,  62.   , ...,  22.5  ,   0.142,  33.   ],\n",
              "       [  1.   , 118.   ,  58.   , ...,  33.3  ,   0.261,  23.   ],\n",
              "       [  0.   ,  91.   ,  80.   , ...,  32.4  ,   0.601,  27.   ],\n",
              "       ...,\n",
              "       [  4.   ,  94.   ,  65.   , ...,  24.7  ,   0.148,  21.   ],\n",
              "       [ 11.   ,  85.   ,  74.   , ...,  30.1  ,   0.3  ,  35.   ],\n",
              "       [  5.   , 136.   ,  82.   , ...,   0.   ,   0.64 ,  69.   ]])"
            ]
          },
          "metadata": {
            "tags": []
          },
          "execution_count": 49
        }
      ]
    },
    {
      "cell_type": "markdown",
      "metadata": {
        "id": "5hDbfl4qm5Iq",
        "colab_type": "text"
      },
      "source": [
        "# **Model**"
      ]
    },
    {
      "cell_type": "code",
      "metadata": {
        "id": "lTOChYlGdXmu",
        "colab_type": "code",
        "colab": {}
      },
      "source": [
        "import keras\n",
        "from keras.models import Sequential   # importing Sequential model\n",
        "from keras.layers import Dense        # importing Dense layers"
      ],
      "execution_count": 0,
      "outputs": []
    },
    {
      "cell_type": "code",
      "metadata": {
        "id": "BRvrz_MLSfMd",
        "colab_type": "code",
        "colab": {}
      },
      "source": [
        "# declaring model\n",
        "basic_model = Sequential()"
      ],
      "execution_count": 0,
      "outputs": []
    },
    {
      "cell_type": "code",
      "metadata": {
        "id": "1uhibQNlWsPU",
        "colab_type": "code",
        "colab": {}
      },
      "source": [
        "# Adding layers to the model\n",
        "# First layers: 16 neurons/perceptrons that takes the input and uses 'sigmoid' activation function.\n",
        "basic_model.add(Dense(units = 16 , activation = 'sigmoid', input_shape = (8,))) \n",
        "# Second layer: 1 neuron/perceptron that takes the input from the 1st layers and gives output as 0 or 1.Activation used is 'Hard Sigmoid'\n",
        "basic_model.add(Dense(1, activation = 'hard_sigmoid'))"
      ],
      "execution_count": 0,
      "outputs": []
    },
    {
      "cell_type": "code",
      "metadata": {
        "id": "1_pihhdiTlHR",
        "colab_type": "code",
        "colab": {}
      },
      "source": [
        "# compiling the model\n",
        "sgd = keras.optimizers.SGD(lr=0.5, momentum=0.9, nesterov=True)\n",
        "basic_model.compile(loss = 'binary_crossentropy', optimizer = 'sgd', metrics = ['accuracy'])"
      ],
      "execution_count": 0,
      "outputs": []
    },
    {
      "cell_type": "markdown",
      "metadata": {
        "id": "1u-JSWmXnAqf",
        "colab_type": "text"
      },
      "source": [
        "# **Training and Testing**"
      ]
    },
    {
      "cell_type": "code",
      "metadata": {
        "id": "GvTzUK7OasqW",
        "colab_type": "code",
        "colab": {
          "base_uri": "https://localhost:8080/",
          "height": 1000
        },
        "outputId": "e7a71e7c-4905-457a-e6bc-02508cd6a796"
      },
      "source": [
        "# training the model\n",
        "basic_model.fit(X_train, y_train, epochs=100)"
      ],
      "execution_count": 66,
      "outputs": [
        {
          "output_type": "stream",
          "text": [
            "Epoch 1/100\n",
            "576/576 [==============================] - 2s 3ms/step - loss: 0.6813 - acc: 0.6424\n",
            "Epoch 2/100\n",
            "576/576 [==============================] - 0s 60us/step - loss: 0.6740 - acc: 0.6424\n",
            "Epoch 3/100\n",
            "576/576 [==============================] - 0s 65us/step - loss: 0.6686 - acc: 0.6424\n",
            "Epoch 4/100\n",
            "576/576 [==============================] - 0s 56us/step - loss: 0.6645 - acc: 0.6424\n",
            "Epoch 5/100\n",
            "576/576 [==============================] - 0s 62us/step - loss: 0.6614 - acc: 0.6424\n",
            "Epoch 6/100\n",
            "576/576 [==============================] - 0s 66us/step - loss: 0.6590 - acc: 0.6424\n",
            "Epoch 7/100\n",
            "576/576 [==============================] - 0s 62us/step - loss: 0.6572 - acc: 0.6424\n",
            "Epoch 8/100\n",
            "576/576 [==============================] - 0s 60us/step - loss: 0.6559 - acc: 0.6424\n",
            "Epoch 9/100\n",
            "576/576 [==============================] - 0s 59us/step - loss: 0.6549 - acc: 0.6424\n",
            "Epoch 10/100\n",
            "576/576 [==============================] - 0s 59us/step - loss: 0.6542 - acc: 0.6424\n",
            "Epoch 11/100\n",
            "576/576 [==============================] - 0s 62us/step - loss: 0.6537 - acc: 0.6424\n",
            "Epoch 12/100\n",
            "576/576 [==============================] - 0s 66us/step - loss: 0.6533 - acc: 0.6424\n",
            "Epoch 13/100\n",
            "576/576 [==============================] - 0s 70us/step - loss: 0.6529 - acc: 0.6424\n",
            "Epoch 14/100\n",
            "576/576 [==============================] - 0s 59us/step - loss: 0.6527 - acc: 0.6424\n",
            "Epoch 15/100\n",
            "576/576 [==============================] - 0s 71us/step - loss: 0.6527 - acc: 0.6424\n",
            "Epoch 16/100\n",
            "576/576 [==============================] - 0s 66us/step - loss: 0.6525 - acc: 0.6424\n",
            "Epoch 17/100\n",
            "576/576 [==============================] - 0s 60us/step - loss: 0.6525 - acc: 0.6424\n",
            "Epoch 18/100\n",
            "576/576 [==============================] - 0s 59us/step - loss: 0.6524 - acc: 0.6424\n",
            "Epoch 19/100\n",
            "576/576 [==============================] - 0s 72us/step - loss: 0.6523 - acc: 0.6424\n",
            "Epoch 20/100\n",
            "576/576 [==============================] - 0s 67us/step - loss: 0.6523 - acc: 0.6424\n",
            "Epoch 21/100\n",
            "576/576 [==============================] - 0s 65us/step - loss: 0.6522 - acc: 0.6424\n",
            "Epoch 22/100\n",
            "576/576 [==============================] - 0s 65us/step - loss: 0.6522 - acc: 0.6424\n",
            "Epoch 23/100\n",
            "576/576 [==============================] - 0s 81us/step - loss: 0.6522 - acc: 0.6424\n",
            "Epoch 24/100\n",
            "576/576 [==============================] - 0s 69us/step - loss: 0.6522 - acc: 0.6424\n",
            "Epoch 25/100\n",
            "576/576 [==============================] - 0s 57us/step - loss: 0.6522 - acc: 0.6424\n",
            "Epoch 26/100\n",
            "576/576 [==============================] - 0s 62us/step - loss: 0.6521 - acc: 0.6424\n",
            "Epoch 27/100\n",
            "576/576 [==============================] - 0s 61us/step - loss: 0.6522 - acc: 0.6424\n",
            "Epoch 28/100\n",
            "576/576 [==============================] - 0s 74us/step - loss: 0.6521 - acc: 0.6424\n",
            "Epoch 29/100\n",
            "576/576 [==============================] - 0s 58us/step - loss: 0.6521 - acc: 0.6424\n",
            "Epoch 30/100\n",
            "576/576 [==============================] - 0s 62us/step - loss: 0.6522 - acc: 0.6424\n",
            "Epoch 31/100\n",
            "576/576 [==============================] - 0s 75us/step - loss: 0.6521 - acc: 0.6424\n",
            "Epoch 32/100\n",
            "576/576 [==============================] - 0s 76us/step - loss: 0.6521 - acc: 0.6424\n",
            "Epoch 33/100\n",
            "576/576 [==============================] - 0s 72us/step - loss: 0.6522 - acc: 0.6424\n",
            "Epoch 34/100\n",
            "576/576 [==============================] - 0s 73us/step - loss: 0.6521 - acc: 0.6424\n",
            "Epoch 35/100\n",
            "576/576 [==============================] - 0s 71us/step - loss: 0.6522 - acc: 0.6424\n",
            "Epoch 36/100\n",
            "576/576 [==============================] - 0s 63us/step - loss: 0.6522 - acc: 0.6424\n",
            "Epoch 37/100\n",
            "576/576 [==============================] - 0s 63us/step - loss: 0.6522 - acc: 0.6424\n",
            "Epoch 38/100\n",
            "576/576 [==============================] - 0s 68us/step - loss: 0.6521 - acc: 0.6424\n",
            "Epoch 39/100\n",
            "576/576 [==============================] - 0s 64us/step - loss: 0.6522 - acc: 0.6424\n",
            "Epoch 40/100\n",
            "576/576 [==============================] - 0s 73us/step - loss: 0.6521 - acc: 0.6424\n",
            "Epoch 41/100\n",
            "576/576 [==============================] - 0s 66us/step - loss: 0.6522 - acc: 0.6424\n",
            "Epoch 42/100\n",
            "576/576 [==============================] - 0s 61us/step - loss: 0.6522 - acc: 0.6424\n",
            "Epoch 43/100\n",
            "576/576 [==============================] - 0s 73us/step - loss: 0.6523 - acc: 0.6424\n",
            "Epoch 44/100\n",
            "576/576 [==============================] - 0s 60us/step - loss: 0.6522 - acc: 0.6424\n",
            "Epoch 45/100\n",
            "576/576 [==============================] - 0s 71us/step - loss: 0.6521 - acc: 0.6424\n",
            "Epoch 46/100\n",
            "576/576 [==============================] - 0s 64us/step - loss: 0.6522 - acc: 0.6424\n",
            "Epoch 47/100\n",
            "576/576 [==============================] - 0s 64us/step - loss: 0.6521 - acc: 0.6424\n",
            "Epoch 48/100\n",
            "576/576 [==============================] - 0s 77us/step - loss: 0.6522 - acc: 0.6424\n",
            "Epoch 49/100\n",
            "576/576 [==============================] - 0s 66us/step - loss: 0.6522 - acc: 0.6424\n",
            "Epoch 50/100\n",
            "576/576 [==============================] - 0s 71us/step - loss: 0.6522 - acc: 0.6424\n",
            "Epoch 51/100\n",
            "576/576 [==============================] - 0s 76us/step - loss: 0.6522 - acc: 0.6424\n",
            "Epoch 52/100\n",
            "576/576 [==============================] - 0s 71us/step - loss: 0.6521 - acc: 0.6424\n",
            "Epoch 53/100\n",
            "576/576 [==============================] - 0s 68us/step - loss: 0.6522 - acc: 0.6424\n",
            "Epoch 54/100\n",
            "576/576 [==============================] - 0s 61us/step - loss: 0.6522 - acc: 0.6424\n",
            "Epoch 55/100\n",
            "576/576 [==============================] - 0s 72us/step - loss: 0.6522 - acc: 0.6424\n",
            "Epoch 56/100\n",
            "576/576 [==============================] - 0s 65us/step - loss: 0.6522 - acc: 0.6424\n",
            "Epoch 57/100\n",
            "576/576 [==============================] - 0s 72us/step - loss: 0.6521 - acc: 0.6424\n",
            "Epoch 58/100\n",
            "576/576 [==============================] - 0s 63us/step - loss: 0.6522 - acc: 0.6424\n",
            "Epoch 59/100\n",
            "576/576 [==============================] - 0s 57us/step - loss: 0.6522 - acc: 0.6424\n",
            "Epoch 60/100\n",
            "576/576 [==============================] - 0s 75us/step - loss: 0.6521 - acc: 0.6424\n",
            "Epoch 61/100\n",
            "576/576 [==============================] - 0s 64us/step - loss: 0.6522 - acc: 0.6424\n",
            "Epoch 62/100\n",
            "576/576 [==============================] - 0s 73us/step - loss: 0.6522 - acc: 0.6424\n",
            "Epoch 63/100\n",
            "576/576 [==============================] - 0s 69us/step - loss: 0.6522 - acc: 0.6424\n",
            "Epoch 64/100\n",
            "576/576 [==============================] - 0s 65us/step - loss: 0.6522 - acc: 0.6424\n",
            "Epoch 65/100\n",
            "576/576 [==============================] - 0s 62us/step - loss: 0.6522 - acc: 0.6424\n",
            "Epoch 66/100\n",
            "576/576 [==============================] - 0s 66us/step - loss: 0.6523 - acc: 0.6424\n",
            "Epoch 67/100\n",
            "576/576 [==============================] - 0s 70us/step - loss: 0.6521 - acc: 0.6424\n",
            "Epoch 68/100\n",
            "576/576 [==============================] - 0s 72us/step - loss: 0.6521 - acc: 0.6424\n",
            "Epoch 69/100\n",
            "576/576 [==============================] - 0s 69us/step - loss: 0.6522 - acc: 0.6424\n",
            "Epoch 70/100\n",
            "576/576 [==============================] - 0s 82us/step - loss: 0.6521 - acc: 0.6424\n",
            "Epoch 71/100\n",
            "576/576 [==============================] - 0s 67us/step - loss: 0.6521 - acc: 0.6424\n",
            "Epoch 72/100\n",
            "576/576 [==============================] - 0s 69us/step - loss: 0.6522 - acc: 0.6424\n",
            "Epoch 73/100\n",
            "576/576 [==============================] - 0s 63us/step - loss: 0.6522 - acc: 0.6424\n",
            "Epoch 74/100\n",
            "576/576 [==============================] - 0s 66us/step - loss: 0.6521 - acc: 0.6424\n",
            "Epoch 75/100\n",
            "576/576 [==============================] - 0s 68us/step - loss: 0.6522 - acc: 0.6424\n",
            "Epoch 76/100\n",
            "576/576 [==============================] - 0s 73us/step - loss: 0.6521 - acc: 0.6424\n",
            "Epoch 77/100\n",
            "576/576 [==============================] - 0s 69us/step - loss: 0.6521 - acc: 0.6424\n",
            "Epoch 78/100\n",
            "576/576 [==============================] - 0s 63us/step - loss: 0.6522 - acc: 0.6424\n",
            "Epoch 79/100\n",
            "576/576 [==============================] - 0s 71us/step - loss: 0.6523 - acc: 0.6424\n",
            "Epoch 80/100\n",
            "576/576 [==============================] - 0s 67us/step - loss: 0.6521 - acc: 0.6424\n",
            "Epoch 81/100\n",
            "576/576 [==============================] - 0s 75us/step - loss: 0.6522 - acc: 0.6424\n",
            "Epoch 82/100\n",
            "576/576 [==============================] - 0s 71us/step - loss: 0.6522 - acc: 0.6424\n",
            "Epoch 83/100\n",
            "576/576 [==============================] - 0s 69us/step - loss: 0.6521 - acc: 0.6424\n",
            "Epoch 84/100\n",
            "576/576 [==============================] - 0s 71us/step - loss: 0.6522 - acc: 0.6424\n",
            "Epoch 85/100\n",
            "576/576 [==============================] - 0s 66us/step - loss: 0.6522 - acc: 0.6424\n",
            "Epoch 86/100\n",
            "576/576 [==============================] - 0s 68us/step - loss: 0.6521 - acc: 0.6424\n",
            "Epoch 87/100\n",
            "576/576 [==============================] - 0s 67us/step - loss: 0.6522 - acc: 0.6424\n",
            "Epoch 88/100\n",
            "576/576 [==============================] - 0s 64us/step - loss: 0.6522 - acc: 0.6424\n",
            "Epoch 89/100\n",
            "576/576 [==============================] - 0s 73us/step - loss: 0.6521 - acc: 0.6424\n",
            "Epoch 90/100\n",
            "576/576 [==============================] - 0s 62us/step - loss: 0.6522 - acc: 0.6424\n",
            "Epoch 91/100\n",
            "576/576 [==============================] - 0s 71us/step - loss: 0.6522 - acc: 0.6424\n",
            "Epoch 92/100\n",
            "576/576 [==============================] - 0s 71us/step - loss: 0.6521 - acc: 0.6424\n",
            "Epoch 93/100\n",
            "576/576 [==============================] - 0s 66us/step - loss: 0.6521 - acc: 0.6424\n",
            "Epoch 94/100\n",
            "576/576 [==============================] - 0s 69us/step - loss: 0.6522 - acc: 0.6424\n",
            "Epoch 95/100\n",
            "576/576 [==============================] - 0s 66us/step - loss: 0.6521 - acc: 0.6424\n",
            "Epoch 96/100\n",
            "576/576 [==============================] - 0s 81us/step - loss: 0.6521 - acc: 0.6424\n",
            "Epoch 97/100\n",
            "576/576 [==============================] - 0s 67us/step - loss: 0.6523 - acc: 0.6424\n",
            "Epoch 98/100\n",
            "576/576 [==============================] - 0s 64us/step - loss: 0.6521 - acc: 0.6424\n",
            "Epoch 99/100\n",
            "576/576 [==============================] - 0s 72us/step - loss: 0.6521 - acc: 0.6424\n",
            "Epoch 100/100\n",
            "576/576 [==============================] - 0s 73us/step - loss: 0.6521 - acc: 0.6424\n"
          ],
          "name": "stdout"
        },
        {
          "output_type": "execute_result",
          "data": {
            "text/plain": [
              "<keras.callbacks.History at 0x7f6b216566d8>"
            ]
          },
          "metadata": {
            "tags": []
          },
          "execution_count": 66
        }
      ]
    },
    {
      "cell_type": "code",
      "metadata": {
        "id": "FlT5Vst5h16C",
        "colab_type": "code",
        "colab": {
          "base_uri": "https://localhost:8080/",
          "height": 67
        },
        "outputId": "b488eb13-5d89-414c-d63e-3319cc54129d"
      },
      "source": [
        "# Test, Loss and accuracy\n",
        "loss_and_metrics = basic_model.evaluate(X_test, y_test)\n",
        "print('Loss = ',loss_and_metrics[0])\n",
        "print('Accuracy = ',loss_and_metrics[1])"
      ],
      "execution_count": 67,
      "outputs": [
        {
          "output_type": "stream",
          "text": [
            "192/192 [==============================] - 1s 3ms/step\n",
            "Loss =  0.6317572295665741\n",
            "Accuracy =  0.6770833333333334\n"
          ],
          "name": "stdout"
        }
      ]
    },
    {
      "cell_type": "markdown",
      "metadata": {
        "id": "TQJQQgk4rHYc",
        "colab_type": "text"
      },
      "source": [
        "Accuracy of **0.677** was obtained from this very simple neural network. Using a deeper model and hyperparameter tuning will lead to better accuracy.\n",
        "\n"
      ]
    },
    {
      "cell_type": "code",
      "metadata": {
        "id": "BtqHcIgEkn0l",
        "colab_type": "code",
        "colab": {}
      },
      "source": [
        ""
      ],
      "execution_count": 0,
      "outputs": []
    }
  ]
}
